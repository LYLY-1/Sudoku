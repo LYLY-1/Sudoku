{
  "cells": [
    {
      "cell_type": "code",
      "execution_count": null,
      "metadata": {
        "id": "hMQ53a8zsajL"
      },
      "outputs": [],
      "source": [
        "#Loading Libraries\n",
        "\n",
        "import numpy as np \n",
        "import pandas as pd\n",
        "import seaborn as sns\n",
        "import matplotlib.pyplot as plt\n",
        "import os, random\n",
        "import cv2\n",
        "from glob import glob\n",
        "import sklearn\n",
        "from sklearn.model_selection import train_test_split\n",
        "import tensorflow as tf\n",
        "from tensorflow import keras\n",
        "from tensorflow.keras.preprocessing.image import ImageDataGenerator\n",
        "from keras.preprocessing.image import ImageDataGenerator, load_img\n",
        "from keras.utils.np_utils import to_categorical\n",
        "from tensorflow.keras.models import Sequential\n",
        "from tensorflow.keras.layers import Activation, Dropout, Dense, Flatten, BatchNormalization, Conv2D, MaxPooling2D\n",
        "from tensorflow.keras.optimizers import RMSprop\n",
        "from tensorflow.keras import backend as K\n",
        "from tensorflow.keras.preprocessing import image\n",
        "from sklearn.metrics import accuracy_score, classification_report\n",
        "from pathlib import Path\n",
        "from PIL import Image \n",
        "from keras.datasets import mnist\n"
      ]
    },
    {
      "cell_type": "code",
      "execution_count": null,
      "metadata": {
        "colab": {
          "base_uri": "https://localhost:8080/"
        },
        "id": "E6sTHF14sbtU",
        "outputId": "355fbde5-7afd-46ba-ffee-72df7e1bf104"
      },
      "outputs": [
        {
          "name": "stdout",
          "output_type": "stream",
          "text": [
            "Downloading data from https://storage.googleapis.com/tensorflow/tf-keras-datasets/mnist.npz\n",
            "11493376/11490434 [==============================] - 0s 0us/step\n",
            "11501568/11490434 [==============================] - 0s 0us/step\n"
          ]
        }
      ],
      "source": [
        "(x_train, y_train), (x_test, y_test) = mnist.load_data()"
      ]
    },
    {
      "cell_type": "code",
      "execution_count": null,
      "metadata": {
        "id": "ISFDsGhytH28"
      },
      "outputs": [],
      "source": [
        "x_train = x_train.reshape((x_train.shape[0], 28, 28, 1))\n",
        "x_test = x_test.reshape((x_test.shape[0], 28, 28, 1))\n",
        " \n",
        "x_train = x_train.astype('float32')\n",
        "x_test = x_test.astype('float32')\n",
        "x_train /= 255\n",
        "x_test /= 255"
      ]
    },
    {
      "cell_type": "code",
      "execution_count": null,
      "metadata": {
        "id": "7-cwUPkdtJ-4"
      },
      "outputs": [],
      "source": [
        "y_train = keras.utils.to_categorical(y_train)\n",
        "y_test = keras.utils.to_categorical(y_test)"
      ]
    },
    {
      "cell_type": "code",
      "execution_count": null,
      "metadata": {
        "id": "Wy1VMGUXu9ul"
      },
      "outputs": [],
      "source": [
        "x_train, x_valid, y_train, y_valid = train_test_split(x_train,y_train,test_size=0.2)"
      ]
    },
    {
      "cell_type": "code",
      "execution_count": null,
      "metadata": {
        "colab": {
          "base_uri": "https://localhost:8080/"
        },
        "id": "FUTTfrwSv5G1",
        "outputId": "9ef67017-2fd3-4eb6-a0d2-7af35b5de314"
      },
      "outputs": [
        {
          "name": "stdout",
          "output_type": "stream",
          "text": [
            "Mounted at /content/drive\n"
          ]
        }
      ],
      "source": [
        "from google.colab import drive\n",
        "drive.mount('/content/drive')"
      ]
    },
    {
      "cell_type": "code",
      "execution_count": null,
      "metadata": {
        "colab": {
          "base_uri": "https://localhost:8080/"
        },
        "id": "afPWvxR2j0qA",
        "outputId": "6593c0e2-5ec5-4f26-9a14-13a7fe137adb"
      },
      "outputs": [
        {
          "name": "stdout",
          "output_type": "stream",
          "text": [
            "Total Dataponits =  10160\n"
          ]
        }
      ],
      "source": [
        "#Loading the data \n",
        "path = r\"D:/Nam4/ComputerVision/Project/Sudoku/Digits\" \n",
        "data = os.listdir(path)\n",
        "data_X = []  #ảnh từ 0-9\n",
        "data_y = []  #label\n",
        "data_classes = len(data)\n",
        "for i in range (0,data_classes):\n",
        "    data_list = os.listdir(path +\"/\"+str(i))\n",
        "    for j in data_list:\n",
        "        pic = cv2.imread(path +\"/\"+str(i)+\"/\"+j)\n",
        "        pic = cv2.resize(pic,(28,28))\n",
        "        data_X.append(pic)\n",
        "        data_y.append(i)\n",
        "\n",
        "         \n",
        "if len(data_X) == len(data_y) :\n",
        "    print(\"Total Dataponits = \",len(data_X))\n",
        "\n",
        "# Labels and images\n",
        "data_X = np.array(data_X)\n",
        "data_y = np.array(data_y)"
      ]
    },
    {
      "cell_type": "code",
      "execution_count": null,
      "metadata": {
        "colab": {
          "base_uri": "https://localhost:8080/",
          "height": 282
        },
        "id": "z65eLbj7l4dB",
        "outputId": "55960275-7a47-4824-bef4-0808587d25ff"
      },
      "outputs": [
        {
          "data": {
            "text/plain": [
              "<matplotlib.image.AxesImage at 0x7f74f653a490>"
            ]
          },
          "execution_count": 9,
          "metadata": {},
          "output_type": "execute_result"
        },
        {
          "data": {
            "image/png": "[encoded data removed]",
            "text/plain": [
              "<Figure size 432x288 with 1 Axes>"
            ]
          },
          "metadata": {
            "needs_background": "light"
          },
          "output_type": "display_data"
        }
      ],
      "source": [
        "plt.imshow(data_X[0])"
      ]
    },
    {
      "cell_type": "code",
      "execution_count": null,
      "metadata": {
        "id": "2qrwLlc8kJp1"
      },
      "outputs": [],
      "source": [
        "# Preprocessing the images for neuralnet\n",
        "\n",
        "def Prep(img):\n",
        "    img = cv2.cvtColor(img,cv2.COLOR_BGR2GRAY) #making image grayscale\n",
        "    img = cv2.equalizeHist(img) #tăng độ tương phản\n",
        "    img = img/255 #normalizing\n",
        "    return img"
      ]
    },
    {
      "cell_type": "code",
      "execution_count": null,
      "metadata": {
        "colab": {
          "base_uri": "https://localhost:8080/"
        },
        "id": "RbLgBjwcmRQR",
        "outputId": "354ce156-2f63-4603-f91b-7a677063c6ad"
      },
      "outputs": [
        {
          "name": "stdout",
          "output_type": "stream",
          "text": [
            "Training Set Shape =  (7721, 28, 28, 3)\n",
            "Validation Set Shape =  (1931, 28, 28, 3)\n",
            "Test Set Shape =  (508, 28, 28, 3)\n"
          ]
        }
      ],
      "source": [
        "#Spliting the train validation and test sets\n",
        "\n",
        "train_X, test_X, train_y, test_y = train_test_split(data_X,data_y,test_size=0.05)\n",
        "train_X, valid_X, train_y, valid_y = train_test_split(train_X,train_y,test_size=0.2)\n",
        "print(\"Training Set Shape = \",train_X.shape)\n",
        "print(\"Validation Set Shape = \",valid_X.shape)\n",
        "print(\"Test Set Shape = \",test_X.shape)"
      ]
    },
    {
      "cell_type": "code",
      "execution_count": null,
      "metadata": {
        "id": "6DMvsNhDktAx"
      },
      "outputs": [],
      "source": [
        "train_X = np.array(list(map(Prep, train_X)))\n",
        "test_X = np.array(list(map(Prep, test_X)))\n",
        "valid_X= np.array(list(map(Prep, valid_X)))\n",
        "\n",
        "#Reshaping the images\n",
        "train_X = train_X.reshape(train_X.shape[0], train_X.shape[1], train_X.shape[2],1)\n",
        "test_X = test_X.reshape(test_X.shape[0], test_X.shape[1], test_X.shape[2],1)\n",
        "valid_X = valid_X.reshape(valid_X.shape[0], valid_X.shape[1], valid_X.shape[2],1)\n",
        "\n",
        "#Tăng dữ liệu\n",
        "datagen = ImageDataGenerator(width_shift_range=0.1, height_shift_range=0.1, zoom_range=0.2, shear_range=0.1, rotation_range=10)\n",
        "datagen.fit(train_X)"
      ]
    },
    {
      "cell_type": "code",
      "execution_count": null,
      "metadata": {
        "id": "fNpDEe95k037"
      },
      "outputs": [],
      "source": [
        "# One hot encoding of the labels\n",
        "train_y = to_categorical(train_y, data_classes)\n",
        "test_y = to_categorical(test_y, data_classes)\n",
        "valid_y = to_categorical(valid_y, data_classes)"
      ]
    },
    {
      "cell_type": "code",
      "execution_count": null,
      "metadata": {
        "colab": {
          "base_uri": "https://localhost:8080/"
        },
        "id": "noJ-jq5NmU7G",
        "outputId": "204f9977-75a5-491e-9807-44b2bc6eaa7b"
      },
      "outputs": [
        {
          "name": "stdout",
          "output_type": "stream",
          "text": [
            "Training Set Shape =  (7721, 28, 28, 1)\n",
            "Validation Set Shape =  (1931, 28, 28, 1)\n",
            "Test Set Shape =  (508, 28, 28, 1)\n"
          ]
        }
      ],
      "source": [
        "print(\"Training Set Shape = \",train_X.shape)\n",
        "print(\"Validation Set Shape = \",valid_X.shape)\n",
        "print(\"Test Set Shape = \",test_X.shape)"
      ]
    },
    {
      "cell_type": "code",
      "execution_count": null,
      "metadata": {
        "id": "Je0hQH9umXn-"
      },
      "outputs": [],
      "source": [
        "x_train = np.concatenate((x_train, train_X), axis=0)\n",
        "x_test = np.concatenate((x_test, test_X), axis=0)\n",
        "x_valid = np.concatenate((x_valid,  valid_X), axis=0)\n",
        "\n",
        "y_valid = np.concatenate((y_valid, valid_y), axis=0)\n",
        "y_train = np.concatenate((y_train, train_y), axis=0)\n",
        "y_test = np.concatenate((y_test, test_y), axis=0)"
      ]
    },
    {
      "cell_type": "code",
      "execution_count": null,
      "metadata": {
        "colab": {
          "base_uri": "https://localhost:8080/"
        },
        "id": "h7k_pcWJZ9vv",
        "outputId": "a136d22a-e2e1-4a72-b158-7f417a5c1866"
      },
      "outputs": [
        {
          "name": "stdout",
          "output_type": "stream",
          "text": [
            "Training Set Shape =  (55721, 28, 28, 1)\n",
            "Validation Set Shape =  (10508, 28, 28, 1)\n",
            "Test Set Shape =  (13931, 28, 28, 1)\n"
          ]
        }
      ],
      "source": [
        "print(\"Training Set Shape = \",x_train.shape)\n",
        "print(\"Validation Set Shape = \",x_test.shape)\n",
        "print(\"Test Set Shape = \",x_valid.shape)"
      ]
    },
    {
      "cell_type": "code",
      "execution_count": null,
      "metadata": {
        "id": "Q6z01bk6Rc-f"
      },
      "outputs": [],
      "source": [
        "model = Sequential()\n",
        "model.add(Conv2D(32, kernel_size=(3, 3), activation='relu'))\n",
        "model.add(Conv2D(64, (3, 3), activation='relu'))\n",
        "model.add(MaxPooling2D(pool_size=(3, 3)))\n",
        "model.add(Dropout(0.5))\n",
        "model.add(Flatten())\n",
        "model.add(Dense(250, activation='sigmoid'))\n",
        "model.add(Dense(10, activation='softmax'))\n"
      ]
    },
    {
      "cell_type": "code",
      "execution_count": null,
      "metadata": {
        "colab": {
          "base_uri": "https://localhost:8080/"
        },
        "id": "LdvKZGYyVqUq",
        "outputId": "e3fa5c02-f155-4e55-9506-e82d8918e392"
      },
      "outputs": [
        {
          "name": "stderr",
          "output_type": "stream",
          "text": [
            "/usr/local/lib/python3.7/dist-packages/keras/optimizer_v2/rmsprop.py:130: UserWarning: The `lr` argument is deprecated, use `learning_rate` instead.\n",
            "  super(RMSprop, self).__init__(name, **kwargs)\n"
          ]
        },
        {
          "name": "stdout",
          "output_type": "stream",
          "text": [
            "Epoch 1/50\n",
            "200/200 - 15s - loss: 0.5814 - accuracy: 0.8270 - val_loss: 0.2252 - val_accuracy: 0.9368 - 15s/epoch - 74ms/step\n",
            "Epoch 2/50\n",
            "200/200 - 2s - loss: 0.1752 - accuracy: 0.9456 - val_loss: 0.1326 - val_accuracy: 0.9594 - 2s/epoch - 8ms/step\n",
            "Epoch 3/50\n",
            "200/200 - 2s - loss: 0.1347 - accuracy: 0.9595 - val_loss: 0.1112 - val_accuracy: 0.9655 - 2s/epoch - 9ms/step\n",
            "Epoch 4/50\n",
            "200/200 - 2s - loss: 0.1259 - accuracy: 0.9638 - val_loss: 0.1099 - val_accuracy: 0.9656 - 2s/epoch - 8ms/step\n",
            "Epoch 5/50\n",
            "200/200 - 2s - loss: 0.1066 - accuracy: 0.9663 - val_loss: 0.1297 - val_accuracy: 0.9604 - 2s/epoch - 8ms/step\n",
            "Epoch 6/50\n",
            "200/200 - 2s - loss: 0.1075 - accuracy: 0.9630 - val_loss: 0.0875 - val_accuracy: 0.9734 - 2s/epoch - 8ms/step\n",
            "Epoch 7/50\n",
            "200/200 - 2s - loss: 0.0986 - accuracy: 0.9678 - val_loss: 0.0745 - val_accuracy: 0.9775 - 2s/epoch - 9ms/step\n",
            "Epoch 8/50\n",
            "200/200 - 2s - loss: 0.0942 - accuracy: 0.9703 - val_loss: 0.0727 - val_accuracy: 0.9783 - 2s/epoch - 10ms/step\n",
            "Epoch 9/50\n",
            "200/200 - 2s - loss: 0.0808 - accuracy: 0.9730 - val_loss: 0.0708 - val_accuracy: 0.9775 - 2s/epoch - 9ms/step\n",
            "Epoch 10/50\n",
            "200/200 - 2s - loss: 0.0718 - accuracy: 0.9784 - val_loss: 0.0727 - val_accuracy: 0.9786 - 2s/epoch - 8ms/step\n",
            "Epoch 11/50\n",
            "200/200 - 2s - loss: 0.0800 - accuracy: 0.9753 - val_loss: 0.0715 - val_accuracy: 0.9772 - 2s/epoch - 8ms/step\n",
            "Epoch 12/50\n",
            "200/200 - 2s - loss: 0.0652 - accuracy: 0.9780 - val_loss: 0.0704 - val_accuracy: 0.9786 - 2s/epoch - 10ms/step\n",
            "Epoch 13/50\n",
            "200/200 - 2s - loss: 0.0774 - accuracy: 0.9769 - val_loss: 0.0621 - val_accuracy: 0.9813 - 2s/epoch - 10ms/step\n",
            "Epoch 14/50\n",
            "200/200 - 2s - loss: 0.0734 - accuracy: 0.9795 - val_loss: 0.0625 - val_accuracy: 0.9812 - 2s/epoch - 9ms/step\n",
            "Epoch 15/50\n",
            "200/200 - 2s - loss: 0.0705 - accuracy: 0.9798 - val_loss: 0.0631 - val_accuracy: 0.9808 - 2s/epoch - 10ms/step\n",
            "Epoch 16/50\n",
            "200/200 - 2s - loss: 0.0731 - accuracy: 0.9789 - val_loss: 0.0696 - val_accuracy: 0.9796 - 2s/epoch - 9ms/step\n",
            "Epoch 17/50\n",
            "200/200 - 2s - loss: 0.0701 - accuracy: 0.9769 - val_loss: 0.0615 - val_accuracy: 0.9816 - 2s/epoch - 8ms/step\n",
            "Epoch 18/50\n",
            "200/200 - 2s - loss: 0.0550 - accuracy: 0.9817 - val_loss: 0.0614 - val_accuracy: 0.9816 - 2s/epoch - 9ms/step\n",
            "Epoch 19/50\n",
            "200/200 - 2s - loss: 0.0494 - accuracy: 0.9834 - val_loss: 0.0645 - val_accuracy: 0.9827 - 2s/epoch - 8ms/step\n",
            "Epoch 20/50\n",
            "200/200 - 2s - loss: 0.0619 - accuracy: 0.9800 - val_loss: 0.0571 - val_accuracy: 0.9834 - 2s/epoch - 8ms/step\n",
            "Epoch 21/50\n",
            "200/200 - 2s - loss: 0.0608 - accuracy: 0.9814 - val_loss: 0.0602 - val_accuracy: 0.9834 - 2s/epoch - 10ms/step\n",
            "Epoch 22/50\n",
            "200/200 - 2s - loss: 0.0557 - accuracy: 0.9814 - val_loss: 0.0611 - val_accuracy: 0.9823 - 2s/epoch - 9ms/step\n",
            "Epoch 23/50\n",
            "200/200 - 2s - loss: 0.0607 - accuracy: 0.9811 - val_loss: 0.0621 - val_accuracy: 0.9831 - 2s/epoch - 9ms/step\n",
            "Epoch 24/50\n",
            "200/200 - 2s - loss: 0.0523 - accuracy: 0.9834 - val_loss: 0.0655 - val_accuracy: 0.9815 - 2s/epoch - 10ms/step\n",
            "Epoch 25/50\n",
            "200/200 - 2s - loss: 0.0635 - accuracy: 0.9800 - val_loss: 0.0524 - val_accuracy: 0.9844 - 2s/epoch - 10ms/step\n",
            "Epoch 26/50\n",
            "200/200 - 2s - loss: 0.0572 - accuracy: 0.9805 - val_loss: 0.0543 - val_accuracy: 0.9844 - 2s/epoch - 9ms/step\n",
            "Epoch 27/50\n",
            "200/200 - 2s - loss: 0.0494 - accuracy: 0.9835 - val_loss: 0.0563 - val_accuracy: 0.9841 - 2s/epoch - 10ms/step\n",
            "Epoch 28/50\n",
            "200/200 - 2s - loss: 0.0510 - accuracy: 0.9859 - val_loss: 0.0539 - val_accuracy: 0.9854 - 2s/epoch - 9ms/step\n",
            "Epoch 29/50\n",
            "200/200 - 2s - loss: 0.0420 - accuracy: 0.9872 - val_loss: 0.0611 - val_accuracy: 0.9832 - 2s/epoch - 10ms/step\n",
            "Epoch 30/50\n",
            "200/200 - 2s - loss: 0.0460 - accuracy: 0.9850 - val_loss: 0.0535 - val_accuracy: 0.9850 - 2s/epoch - 10ms/step\n",
            "Epoch 31/50\n",
            "200/200 - 2s - loss: 0.0501 - accuracy: 0.9842 - val_loss: 0.0558 - val_accuracy: 0.9842 - 2s/epoch - 10ms/step\n",
            "Epoch 32/50\n",
            "200/200 - 2s - loss: 0.0530 - accuracy: 0.9842 - val_loss: 0.0503 - val_accuracy: 0.9859 - 2s/epoch - 9ms/step\n",
            "Epoch 33/50\n",
            "200/200 - 2s - loss: 0.0500 - accuracy: 0.9814 - val_loss: 0.0575 - val_accuracy: 0.9844 - 2s/epoch - 8ms/step\n",
            "Epoch 34/50\n",
            "200/200 - 2s - loss: 0.0566 - accuracy: 0.9841 - val_loss: 0.0547 - val_accuracy: 0.9850 - 2s/epoch - 10ms/step\n",
            "Epoch 35/50\n",
            "200/200 - 2s - loss: 0.0488 - accuracy: 0.9838 - val_loss: 0.0481 - val_accuracy: 0.9861 - 2s/epoch - 10ms/step\n",
            "Epoch 36/50\n",
            "200/200 - 2s - loss: 0.0441 - accuracy: 0.9858 - val_loss: 0.0477 - val_accuracy: 0.9862 - 2s/epoch - 10ms/step\n",
            "Epoch 37/50\n",
            "200/200 - 2s - loss: 0.0519 - accuracy: 0.9847 - val_loss: 0.0543 - val_accuracy: 0.9844 - 2s/epoch - 9ms/step\n",
            "Epoch 38/50\n",
            "200/200 - 2s - loss: 0.0461 - accuracy: 0.9861 - val_loss: 0.0491 - val_accuracy: 0.9866 - 2s/epoch - 8ms/step\n",
            "Epoch 39/50\n",
            "200/200 - 2s - loss: 0.0416 - accuracy: 0.9877 - val_loss: 0.0481 - val_accuracy: 0.9860 - 2s/epoch - 9ms/step\n",
            "Epoch 40/50\n",
            "200/200 - 2s - loss: 0.0357 - accuracy: 0.9883 - val_loss: 0.0566 - val_accuracy: 0.9831 - 2s/epoch - 10ms/step\n",
            "Epoch 41/50\n",
            "200/200 - 2s - loss: 0.0439 - accuracy: 0.9859 - val_loss: 0.0524 - val_accuracy: 0.9864 - 2s/epoch - 8ms/step\n",
            "Epoch 42/50\n",
            "200/200 - 2s - loss: 0.0565 - accuracy: 0.9834 - val_loss: 0.0502 - val_accuracy: 0.9864 - 2s/epoch - 8ms/step\n",
            "Epoch 43/50\n",
            "200/200 - 2s - loss: 0.0440 - accuracy: 0.9859 - val_loss: 0.0501 - val_accuracy: 0.9869 - 2s/epoch - 10ms/step\n",
            "Epoch 44/50\n",
            "200/200 - 2s - loss: 0.0441 - accuracy: 0.9871 - val_loss: 0.0518 - val_accuracy: 0.9863 - 2s/epoch - 10ms/step\n",
            "Epoch 45/50\n",
            "200/200 - 2s - loss: 0.0361 - accuracy: 0.9886 - val_loss: 0.0572 - val_accuracy: 0.9852 - 2s/epoch - 10ms/step\n",
            "Epoch 46/50\n",
            "200/200 - 2s - loss: 0.0417 - accuracy: 0.9872 - val_loss: 0.0571 - val_accuracy: 0.9849 - 2s/epoch - 10ms/step\n",
            "Epoch 47/50\n",
            "200/200 - 2s - loss: 0.0495 - accuracy: 0.9861 - val_loss: 0.0563 - val_accuracy: 0.9859 - 2s/epoch - 9ms/step\n",
            "Epoch 48/50\n",
            "200/200 - 2s - loss: 0.0480 - accuracy: 0.9870 - val_loss: 0.0495 - val_accuracy: 0.9868 - 2s/epoch - 10ms/step\n",
            "Epoch 49/50\n",
            "200/200 - 2s - loss: 0.0452 - accuracy: 0.9859 - val_loss: 0.0539 - val_accuracy: 0.9865 - 2s/epoch - 10ms/step\n",
            "Epoch 50/50\n",
            "200/200 - 2s - loss: 0.0358 - accuracy: 0.9900 - val_loss: 0.0517 - val_accuracy: 0.9863 - 2s/epoch - 10ms/step\n"
          ]
        }
      ],
      "source": [
        "model.compile(optimizer=RMSprop(lr=0.001, rho=0.9, epsilon = 1e-08, decay=0.0),\n",
        "\t\t\tloss=keras.losses.categorical_crossentropy,\n",
        "\t\t\tmetrics=['accuracy'])\n",
        "\n",
        "history = model.fit(x_train, y_train, batch_size=32,\n",
        "                    epochs = 50, validation_data = (x_valid, y_valid),\n",
        "                    verbose = 2, steps_per_epoch= 200)"
      ]
    },
    {
      "cell_type": "code",
      "execution_count": null,
      "metadata": {
        "id": "gwCJ_hiqVrsC"
      },
      "outputs": [],
      "source": [
        "model.save('classify_ver3.h5')"
      ]
    },
    {
      "cell_type": "code",
      "execution_count": null,
      "metadata": {
        "colab": {
          "base_uri": "https://localhost:8080/"
        },
        "id": "fc94D5mnZWlt",
        "outputId": "539594ca-46fd-4200-d2cc-71cc8d927bbe"
      },
      "outputs": [
        {
          "name": "stdout",
          "output_type": "stream",
          "text": [
            "Test Score =  0.03726521134376526\n",
            "Test Accuracy = 0.9894366264343262\n"
          ]
        }
      ],
      "source": [
        "score = model.evaluate(x_test, y_test, verbose=0)\n",
        "print('Test Score = ',score[0])\n",
        "print('Test Accuracy =', score[1])"
      ]
    },
    {
      "cell_type": "code",
      "execution_count": null,
      "metadata": {
        "colab": {
          "base_uri": "https://localhost:8080/",
          "height": 388
        },
        "id": "NGTgn9TnZl7B",
        "outputId": "723741d7-63a3-404a-9c95-50daf57ccd0b"
      },
      "outputs": [
        {
          "data": {
            "image/png": "[encoded data removed]",
            "text/plain": [
              "<Figure size 864x432 with 2 Axes>"
            ]
          },
          "metadata": {
            "needs_background": "light"
          },
          "output_type": "display_data"
        }
      ],
      "source": [
        "fig, ax = plt.subplots(1, 2)\n",
        "fig.set_size_inches(12,6)\n",
        "e = [i for i in range(1, 51)]\n",
        "ax[0].plot(e, history.history['loss'], label='train loss')\n",
        "ax[0].plot(e, history.history['val_loss'], label='val loss')\n",
        "ax[0].legend()\n",
        "ax[0].set_xlabel(\"Epochs\")\n",
        "ax[0].set_ylabel(\"loss\")\n",
        "\n",
        "ax[1].plot(e, history.history['accuracy'], label='accuracy')\n",
        "ax[1].plot(e, history.history['val_accuracy'], label='val_accuracy')\n",
        "ax[1].legend()\n",
        "ax[1].set_xlabel('Epochs')\n",
        "ax[1].set_ylabel('Accuracy')\n",
        "plt.show()"
      ]
    },
    {
      "cell_type": "code",
      "execution_count": null,
      "metadata": {
        "id": "5hdr6vRpaV6L"
      },
      "outputs": [],
      "source": [
        "(a, b), (c, d) = mnist.load_data()"
      ]
    },
    {
      "cell_type": "code",
      "execution_count": null,
      "metadata": {
        "colab": {
          "base_uri": "https://localhost:8080/",
          "height": 282
        },
        "id": "shiV2U06cCTm",
        "outputId": "8c37a39e-d65e-4717-cbff-185e3d6b7d58"
      },
      "outputs": [
        {
          "data": {
            "text/plain": [
              "<matplotlib.image.AxesImage at 0x7f74647eee50>"
            ]
          },
          "execution_count": 26,
          "metadata": {},
          "output_type": "execute_result"
        },
        {
          "data": {
            "image/png": "[encoded data removed]",
            "text/plain": [
              "<Figure size 432x288 with 1 Axes>"
            ]
          },
          "metadata": {
            "needs_background": "light"
          },
          "output_type": "display_data"
        }
      ],
      "source": [
        "plt.imshow(a[300])"
      ]
    },
    {
      "cell_type": "code",
      "execution_count": null,
      "metadata": {
        "colab": {
          "base_uri": "https://localhost:8080/"
        },
        "id": "4mGHE2RHcKa_",
        "outputId": "e2bdafee-355f-4a36-8086-35e8acb658b7"
      },
      "outputs": [
        {
          "data": {
            "text/plain": [
              "array([[2.6392584e-09, 5.0921480e-09, 5.8020757e-09, 2.7640075e-07,\n",
              "        1.2035654e-09, 3.5909917e-08, 8.1574623e-09, 2.6256250e-10,\n",
              "        9.9999964e-01, 5.2979082e-08]], dtype=float32)"
            ]
          },
          "execution_count": 27,
          "metadata": {},
          "output_type": "execute_result"
        }
      ],
      "source": [
        "te = cv2.resize(a[300], (28, 28))\n",
        "te = te/255\n",
        "te = te.reshape(1, 28, 28 , 1)\n",
        "model.predict(te)"
      ]
    },
    {
      "cell_type": "code",
      "execution_count": null,
      "metadata": {
        "id": "B3CACHPTkZx4"
      },
      "outputs": [],
      "source": []
    }
  ],
  "metadata": {
    "accelerator": "GPU",
    "colab": {
      "collapsed_sections": [],
      "provenance": []
    },
    "kernelspec": {
      "display_name": "Python 3.9.13 64-bit",
      "language": "python",
      "name": "python3"
    },
    "language_info": {
      "name": "python",
      "version": "3.9.13"
    },
    "vscode": {
      "interpreter": {
        "hash": "87f440bfac56dce719b6655f804c716ac979cde523ccab33a9a002c8e25a6011"
      }
    }
  },
  "nbformat": 4,
  "nbformat_minor": 0
}
