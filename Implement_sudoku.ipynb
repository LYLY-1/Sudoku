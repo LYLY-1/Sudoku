{
  "cells": [
    {
      "cell_type": "code",
      "execution_count": 1,
      "metadata": {},
      "outputs": [],
      "source": [
        "from Check_Sudoku import printing, isSafe"
      ]
    },
    {
      "cell_type": "code",
      "execution_count": 2,
      "metadata": {
        "id": "-e-r6_0e19Ji"
      },
      "outputs": [],
      "source": [
        "N=9\n",
        "def solveSudoku(grid, row, col):\n",
        "   #Cuối mảng\n",
        "    if (row == N - 1 and col == N):\n",
        "        return True\n",
        "       \n",
        "    # Kiểm tra xem giá trị cột có trở thành 9 hay không,nếu có thì chuyển sang hàng tiếp theo và cột bắt đầu từ 0\n",
        "    if col == N:\n",
        "        row += 1\n",
        "        col = 0\n",
        " \n",
        "    # Kiểm tra xem vị trí hiện tại của mảng đã chứa giá trị> 0 chưa, lặp lại cho cột tiếp theo\n",
        "    if grid[row][col] > 0:\n",
        "        return solveSudoku(grid, row, col + 1)\n",
        "    for num in range(1, N + 1, 1):\n",
        "       \n",
        "        # Kiểm tra xem có đúng không khi đặt số (1-9) vào hàng và cột đó -> chuyển sang cột tiếp theo\n",
        "        if isSafe(grid, row, col, num):\n",
        "           \n",
        "            # Gán số ở vị trí (hàng, cột) hiện tại của mảng và giả sử rằng số được chỉ định của chúng ta ở vị trí là chính xác\n",
        "            grid[row][col] = num\n",
        " \n",
        "            #Kiểm tra xác suất với cột tiếp theo\n",
        "            if solveSudoku(grid, row, col + 1):\n",
        "                return True\n",
        " \n",
        "        \n",
        "        grid[row][col] = 0\n",
        "    return False"
      ]
    },
    {
      "cell_type": "code",
      "execution_count": 3,
      "metadata": {},
      "outputs": [],
      "source": [
        "import numpy as np"
      ]
    },
    {
      "cell_type": "code",
      "execution_count": 4,
      "metadata": {
        "colab": {
          "base_uri": "https://localhost:8080/"
        },
        "id": "4M4bP4-MZn_r",
        "outputId": "844a89b2-123c-4edd-deb4-79e27066f184"
      },
      "outputs": [
        {
          "name": "stdout",
          "output_type": "stream",
          "text": [
            "4 1 9 | 5 2 6 | 8 3 7\n",
            "5 6 7 | 8 4 3 | 2 1 9\n",
            "2 3 8 | 1 9 7 | 4 6 5\n",
            "....................\n",
            "1 4 6 | 3 5 8 | 7 9 2\n",
            "8 5 2 | 9 7 1 | 3 4 6\n",
            "7 9 3 | 2 6 4 | 1 5 8\n",
            "....................\n",
            "3 2 5 | 4 8 9 | 6 7 1\n",
            "9 7 4 | 6 1 2 | 5 8 3\n",
            "6 8 1 | 7 3 5 | 9 2 4\n"
          ]
        }
      ],
      "source": [
        "grid = np.array(\n",
        "        [[0, 1, 9, 0, 2, 0, 0, 3, 7],\n",
        "        [5, 0, 0, 0, 4, 0, 0, 1, 0],\n",
        "        [2, 0, 0, 0, 0, 0, 4, 0, 0],\n",
        "        [0, 4, 0, 0, 0, 8, 0, 0, 2],\n",
        "        [0, 0, 0, 9, 0, 1, 0, 0, 0],\n",
        "        [7, 0, 0, 2, 0, 0, 0, 5, 0],\n",
        "        [0, 0, 5, 0, 0, 0, 0, 0, 1],\n",
        "        [0, 7, 0, 0, 1, 0, 0, 0, 3],\n",
        "        [6, 8, 0, 0, 3, 0, 9, 2, 0]])\n",
        " \n",
        "if (solveSudoku(grid, 0, 0)):\n",
        "    printing(grid)\n",
        "else:\n",
        "    print(\"Không có giải pháp \")"
      ]
    },
    {
      "cell_type": "code",
      "execution_count": 5,
      "metadata": {},
      "outputs": [
        {
          "data": {
            "text/plain": [
              "array([45, 45, 45, 45, 45, 45, 45, 45, 45])"
            ]
          },
          "execution_count": 5,
          "metadata": {},
          "output_type": "execute_result"
        }
      ],
      "source": [
        "np.sum(grid, 1)"
      ]
    },
    {
      "cell_type": "code",
      "execution_count": 6,
      "metadata": {
        "id": "NcTsx4yf3qrR"
      },
      "outputs": [],
      "source": [
        "from tensorflow import keras\n",
        "model = keras.models.load_model('sudoku.h5')"
      ]
    },
    {
      "cell_type": "code",
      "execution_count": 7,
      "metadata": {},
      "outputs": [
        {
          "name": "stdout",
          "output_type": "stream",
          "text": [
            "1/1 [==============================] - 0s 237ms/step\n"
          ]
        }
      ],
      "source": [
        "grid_model = model.predict(grid.reshape(1, 9, 9, 1)).argmax(-1).squeeze()+1"
      ]
    },
    {
      "cell_type": "code",
      "execution_count": 8,
      "metadata": {},
      "outputs": [
        {
          "name": "stdout",
          "output_type": "stream",
          "text": [
            "4 1 9 | 5 2 6 | 8 3 7\n",
            "5 6 7 | 8 4 3 | 2 1 9\n",
            "2 3 8 | 1 9 7 | 4 6 5\n",
            "....................\n",
            "1 4 6 | 3 5 8 | 7 9 2\n",
            "8 5 2 | 9 7 1 | 3 4 6\n",
            "7 9 3 | 2 6 4 | 1 5 8\n",
            "....................\n",
            "3 2 5 | 4 8 9 | 6 7 1\n",
            "9 7 4 | 6 1 2 | 5 8 3\n",
            "6 8 1 | 7 3 5 | 9 2 4\n"
          ]
        }
      ],
      "source": [
        "printing(grid_model)"
      ]
    },
    {
      "cell_type": "code",
      "execution_count": 9,
      "metadata": {},
      "outputs": [
        {
          "data": {
            "text/plain": [
              "array([45, 45, 45, 45, 45, 45, 45, 45, 45], dtype=int64)"
            ]
          },
          "execution_count": 9,
          "metadata": {},
          "output_type": "execute_result"
        }
      ],
      "source": [
        "np.sum(grid_model, 1)"
      ]
    },
    {
      "cell_type": "code",
      "execution_count": 23,
      "metadata": {},
      "outputs": [],
      "source": [
        "def test_accuracy(X, Y, n):\n",
        "    \n",
        "    correct = 0\n",
        "    for i in range(n):\n",
        "        grid = X[i]\n",
        "        if (solveSudoku(grid, 0, 0)):\n",
        "            if grid == Y[i]:\n",
        "                correct += 1\n",
        "            \n",
        "    print(correct/n)"
      ]
    },
    {
      "cell_type": "code",
      "execution_count": 11,
      "metadata": {},
      "outputs": [],
      "source": [
        "import pandas as pd\n",
        "import numpy as np"
      ]
    },
    {
      "cell_type": "code",
      "execution_count": 12,
      "metadata": {},
      "outputs": [],
      "source": [
        "df = pd.read_csv('sudoku.csv')"
      ]
    },
    {
      "cell_type": "code",
      "execution_count": 13,
      "metadata": {},
      "outputs": [],
      "source": [
        "X = np.array(df.quizzes.map(lambda x: list(map(int, x))).to_list())\n",
        "Y = np.array(df.solutions.map(lambda x: list(map(int, x))).to_list())"
      ]
    },
    {
      "cell_type": "code",
      "execution_count": 18,
      "metadata": {},
      "outputs": [],
      "source": [
        "X = X.reshape(-1, 9, 9)\n",
        "Y = Y.reshape(-1, 9, 9)"
      ]
    },
    {
      "cell_type": "code",
      "execution_count": 24,
      "metadata": {},
      "outputs": [
        {
          "ename": "ValueError",
          "evalue": "The truth value of an array with more than one element is ambiguous. Use a.any() or a.all()",
          "output_type": "error",
          "traceback": [
            "\u001b[1;31m---------------------------------------------------------------------------\u001b[0m",
            "\u001b[1;31mValueError\u001b[0m                                Traceback (most recent call last)",
            "Cell \u001b[1;32mIn [24], line 1\u001b[0m\n\u001b[1;32m----> 1\u001b[0m test_accuracy(X, Y, \u001b[38;5;241m100\u001b[39m)\n",
            "Cell \u001b[1;32mIn [23], line 7\u001b[0m, in \u001b[0;36mtest_accuracy\u001b[1;34m(X, Y, n)\u001b[0m\n\u001b[0;32m      5\u001b[0m     grid \u001b[38;5;241m=\u001b[39m X[i]\n\u001b[0;32m      6\u001b[0m     \u001b[38;5;28;01mif\u001b[39;00m (solveSudoku(grid, \u001b[38;5;241m0\u001b[39m, \u001b[38;5;241m0\u001b[39m)):\n\u001b[1;32m----> 7\u001b[0m         \u001b[38;5;28;01mif\u001b[39;00m \u001b[43mgrid\u001b[49m\u001b[43m \u001b[49m\u001b[38;5;241;43m==\u001b[39;49m\u001b[43m \u001b[49m\u001b[43mY\u001b[49m\u001b[43m[\u001b[49m\u001b[43mi\u001b[49m\u001b[43m]\u001b[49m:\n\u001b[0;32m      8\u001b[0m             correct \u001b[38;5;241m+\u001b[39m\u001b[38;5;241m=\u001b[39m \u001b[38;5;241m1\u001b[39m\n\u001b[0;32m     10\u001b[0m \u001b[38;5;28mprint\u001b[39m(correct\u001b[38;5;241m/\u001b[39mn)\n",
            "\u001b[1;31mValueError\u001b[0m: The truth value of an array with more than one element is ambiguous. Use a.any() or a.all()"
          ]
        }
      ],
      "source": [
        "test_accuracy(X, Y, 100)"
      ]
    },
    {
      "cell_type": "code",
      "execution_count": null,
      "metadata": {},
      "outputs": [],
      "source": []
    }
  ],
  "metadata": {
    "colab": {
      "provenance": []
    },
    "kernelspec": {
      "display_name": "Python 3.9.13 64-bit",
      "language": "python",
      "name": "python3"
    },
    "language_info": {
      "codemirror_mode": {
        "name": "ipython",
        "version": 3
      },
      "file_extension": ".py",
      "mimetype": "text/x-python",
      "name": "python",
      "nbconvert_exporter": "python",
      "pygments_lexer": "ipython3",
      "version": "3.9.13"
    },
    "vscode": {
      "interpreter": {
        "hash": "87f440bfac56dce719b6655f804c716ac979cde523ccab33a9a002c8e25a6011"
      }
    }
  },
  "nbformat": 4,
  "nbformat_minor": 0
}
